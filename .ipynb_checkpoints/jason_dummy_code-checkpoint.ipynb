{
 "cells": [
  {
   "cell_type": "markdown",
   "id": "039b5846-c3f4-40e7-a5ed-577c322af19f",
   "metadata": {},
   "source": [
    "# Set up"
   ]
  },
  {
   "cell_type": "code",
   "execution_count": 2,
   "id": "8ecec3c9-8a58-46bc-abf5-2779bfb145e0",
   "metadata": {},
   "outputs": [],
   "source": [
    "# import spotipy\n",
    "# from spotipy import util\n",
    "# from spotipy.oauth2 import SpotifyClientCredentials\n",
    "from get_spotify_client import get_spotify_obj\n",
    "from utility_functions import create_connection\n",
    "from utility_functions  import execute_sql_query\n",
    "import data_pull_functions as pull"
   ]
  },
  {
   "cell_type": "markdown",
   "id": "372069a2-4a6f-41b9-b766-ab1cfb9fe46b",
   "metadata": {},
   "source": [
    "`client_id`: client ID from your project app on the spotify's app [dashboard](https://developer.spotify.com/dashboard)\n",
    "\n",
    "`client_secret`: client secret from your project app on the spotify's app [dashboard](https://developer.spotify.com/dashboard)\n",
    "\n",
    "`client_credentials_manager`: This create's a client to access the spotify API.  Since no access token was created, only public data may be accessed and no user interaction is available.\n",
    "\n",
    "`spotipy.Spotify`: This is an object to send requests to the spotify API"
   ]
  },
  {
   "cell_type": "markdown",
   "id": "a2f30995-6d99-483f-a9bf-9f2c6a046d2d",
   "metadata": {},
   "source": [
    "## Getting Spotify Client"
   ]
  },
  {
   "cell_type": "code",
   "execution_count": 3,
   "id": "86c18caa-140e-472a-a264-e3d1c20af9c1",
   "metadata": {},
   "outputs": [],
   "source": [
    "sp = get_spotify_obj()"
   ]
  },
  {
   "cell_type": "markdown",
   "id": "1dca654d-6e4a-48af-b32d-86e7755ef5df",
   "metadata": {},
   "source": [
    "# Get the [top 50 global playist](https://open.spotify.com/playlist/37i9dQZEVXbMDoHDwVN2tF?si=87c0069b7da449b7)"
   ]
  },
  {
   "cell_type": "markdown",
   "id": "d0b173f9-eba0-4cb4-a32b-9c8cd3f5cccb",
   "metadata": {},
   "source": [
    "`playlist_tracks` - Grabs a spotify playlist as `dict`.  In this case, we grab the _global top 50_.  Please call the `items` kvp to get a list of the tracks contained in the playlist"
   ]
  },
  {
   "cell_type": "code",
   "execution_count": 4,
   "id": "50fecc7a-97e6-404b-a092-3cd439572420",
   "metadata": {},
   "outputs": [],
   "source": [
    "# pulls data on the playlist for the top 50 global!\n",
    "top_fifty_global = sp.playlist_tracks(\"https://open.spotify.com/playlist/37i9dQZEVXbMDoHDwVN2tF?si=87c0069b7da449b7\")\n",
    "\n",
    "# This is a list of all tracks in the playlist.  Track objects are dictionaries\n",
    "top_fifty_global_tracks = top_fifty_global.get(\"items\")"
   ]
  },
  {
   "cell_type": "markdown",
   "id": "59c73abb-e185-4138-b08a-e8400cefb1df",
   "metadata": {},
   "source": [
    "Current fields we need for playlist relation:\n",
    "\n",
    "* `track_name` - The name of the track lol\n",
    "* `track_id` - The track's id\n",
    "* `album_name` - The name of the album the track is a part of\n",
    "* `album_id` - The album's id\n",
    "* `date_added` - `DateTime` this was loaded this tuple was loaded to our database\n",
    " "
   ]
  },
  {
   "cell_type": "markdown",
   "id": "3c144d10-3f00-4b6a-934c-40d6fa0cb67b",
   "metadata": {},
   "source": [
    "These are is one track in our playlist.  Each track returns as a dict and we want to highlight the various information we oculd get."
   ]
  },
  {
   "cell_type": "code",
   "execution_count": 5,
   "id": "ecf2fdb5-593c-481f-81fd-0a53bdd0fc20",
   "metadata": {},
   "outputs": [
    {
     "data": {
      "text/plain": [
       "[{'external_urls': {'spotify': 'https://open.spotify.com/artist/7iK8PXO48WeuP03g8YR51W'},\n",
       "  'href': 'https://api.spotify.com/v1/artists/7iK8PXO48WeuP03g8YR51W',\n",
       "  'id': '7iK8PXO48WeuP03g8YR51W',\n",
       "  'name': 'Myke Towers',\n",
       "  'type': 'artist',\n",
       "  'uri': 'spotify:artist:7iK8PXO48WeuP03g8YR51W'}]"
      ]
     },
     "execution_count": 5,
     "metadata": {},
     "output_type": "execute_result"
    }
   ],
   "source": [
    "track_one = top_fifty_global_tracks[23]\n",
    "track_one.get('track').get('artists')"
   ]
  },
  {
   "cell_type": "markdown",
   "id": "85e84590-9e22-4073-8aff-2a642a141ce4",
   "metadata": {},
   "source": [
    "The track's `track` kvp is where we get the information of the `track_id`, `track`, `album` columns"
   ]
  },
  {
   "cell_type": "code",
   "execution_count": 6,
   "id": "d13bfa18-f798-4dc5-9304-1a25a81fe95b",
   "metadata": {},
   "outputs": [
    {
     "name": "stdout",
     "output_type": "stream",
     "text": [
      "Track Name: LA FALDA\n",
      "Track Id: 7iUtQNMRB8ZkKC4AmEuCJC\n"
     ]
    }
   ],
   "source": [
    "print(\"Track Name: \" + track_one.get('track').get('name'))\n",
    "print(\"Track Id: \" + track_one.get('track').get('id'))"
   ]
  },
  {
   "cell_type": "markdown",
   "id": "6b4ce77c-066a-490e-a04e-5bbaf82e0b78",
   "metadata": {},
   "source": [
    "the track's `album` kvp is where we can get the track's `album` and `album_id`"
   ]
  },
  {
   "cell_type": "code",
   "execution_count": 7,
   "id": "00f66398-be80-455c-8028-b6ca1675fda8",
   "metadata": {},
   "outputs": [
    {
     "name": "stdout",
     "output_type": "stream",
     "text": [
      "Album Name: LVEU: VIVE LA TUYA...NO LA MIA\n",
      "Album Id: 1ZVJTCW5rxpHKNgsNL91J2\n"
     ]
    }
   ],
   "source": [
    "print(\"Album Name: \" + track_one.get('track').get('album').get('name'))\n",
    "print(\"Album Id: \" + track_one.get('track').get('album').get('id'))"
   ]
  },
  {
   "cell_type": "markdown",
   "id": "67714848-333c-4a5d-97a0-7fe2fe5d0977",
   "metadata": {},
   "source": [
    "# Grabbing top 50 tracks in playlist"
   ]
  },
  {
   "cell_type": "markdown",
   "id": "4ecfa388-100c-413c-a5de-8beca5f6ce00",
   "metadata": {},
   "source": [
    "`get_global_top_fifty_data` returns a `list` of `tuple` where each tuple is a track data in the format `(track, track_id, album, album_id)`\n"
   ]
  },
  {
   "cell_type": "code",
   "execution_count": 8,
   "id": "9e617dd8-d6b6-4330-9e61-74f1e653dd0f",
   "metadata": {},
   "outputs": [],
   "source": [
    "def get_global_top_fifty_song_album_data(sp):\n",
    "    playlist_id = \"https://open.spotify.com/playlist/37i9dQZEVXbMDoHDwVN2tF?si=87c0069b7da449b7\"\n",
    "    top_fifty_global = sp.playlist_tracks(playlist_id)\n",
    "\n",
    "# This is a list of all tracks in the playlist.  Track objects are dictionaries\n",
    "    top_fifty_global_tracks = top_fifty_global.get(\"items\")\n",
    "\n",
    "    tuples = []\n",
    "    \n",
    "    for song in top_fifty_global_tracks:\n",
    "        added_it = song.get('added_at')\n",
    "        \n",
    "        song_info = song.get('track')\n",
    "        track = song_info.get('name')\n",
    "        track_id = song_info.get('id')\n",
    "    \n",
    "        album_info = song_info.get('album')\n",
    "        album = album_info.get('name')\n",
    "        album_id = album_info.get('id')\n",
    "\n",
    "        date_loaded = str(date.today())\n",
    "    \n",
    "        row = (track, track_id, album, album_id, date_loaded)\n",
    "        tuples.append(row)\n",
    "\n",
    "    return tuples"
   ]
  },
  {
   "cell_type": "markdown",
   "id": "0a08c444-6039-4f2a-a2d5-88fa2b1b59a2",
   "metadata": {},
   "source": [
    "# Getting track data for track table"
   ]
  },
  {
   "cell_type": "markdown",
   "id": "c879ff55-135d-4c7f-b514-619c1076db6a",
   "metadata": {},
   "source": [
    "`get_all_song_ids` returns a list of all the unique tracks and their ids for the track table as a `dict`."
   ]
  },
  {
   "cell_type": "code",
   "execution_count": 9,
   "id": "fbf0af5a-99af-417d-aa2d-d5d7eaed848d",
   "metadata": {},
   "outputs": [],
   "source": [
    "def get_all_song_ids(list_of_tracks):\n",
    "    track_dict = {}\n",
    "    ids = set()\n",
    "    \n",
    "    for track in list_of_tracks:\n",
    "        track_id = track[1]\n",
    "        track_name = track[0]\n",
    "        \n",
    "        if track_id not in ids:\n",
    "            track_dict.update({track_id:track_name})\n",
    "        else:\n",
    "            continue\n",
    "    return track_dict"
   ]
  },
  {
   "cell_type": "code",
   "execution_count": 10,
   "id": "8354ae25-db03-4485-b3cb-fb7121caecc6",
   "metadata": {},
   "outputs": [],
   "source": [
    "#data = get_global_top_fifty_song_album_data(sp)"
   ]
  },
  {
   "cell_type": "markdown",
   "id": "d172792a-e19b-4eed-97ec-732f422ed351",
   "metadata": {},
   "source": [
    "# Grabbing the artist data"
   ]
  },
  {
   "cell_type": "markdown",
   "id": "7bc8f63d-f422-48bc-a25d-042565222482",
   "metadata": {},
   "source": [
    "`get_all_top_fifty_artists` returns the artist that related to all of the songs in a playlist"
   ]
  },
  {
   "cell_type": "code",
   "execution_count": 11,
   "id": "692050cf-e9fa-4908-9acf-bd0e73693e58",
   "metadata": {},
   "outputs": [],
   "source": [
    "def get_all_top_fifty_artists(sp):\n",
    "    playlist_id = \"https://open.spotify.com/playlist/37i9dQZEVXbMDoHDwVN2tF?si=87c0069b7da449b7\"\n",
    "    top_fifty_global = sp.playlist_tracks(playlist_id)\n",
    "    top_fifty_global_tracks = top_fifty_global.get(\"items\")\n",
    "    tuples = []\n",
    "\n",
    "    for track in top_fifty_global_tracks:\n",
    "        # This is a list of dicts containing where each dict is an artist's information\n",
    "        track_artists = track.get('track').get('artists')\n",
    "        track_artists_data = [(artist.get('id'), artist.get('name')) for artist in track_artists]\n",
    "        tuples += track_artists_data\n",
    "\n",
    "    unique_artists = set(tuples)\n",
    "    tuples = list(tuples)\n",
    "    return tuples"
   ]
  },
  {
   "cell_type": "markdown",
   "id": "f3c1f5fa-9fd7-465b-8c59-9c3b8c11d3c0",
   "metadata": {},
   "source": [
    "# Grabbing the album data"
   ]
  },
  {
   "cell_type": "markdown",
   "id": "2978d9f6-f3f5-464f-a3fd-d81c4f39a0f3",
   "metadata": {},
   "source": [
    "`get_all_top_fifty_albums` returns the artist that related to all of the songs in a playlist"
   ]
  },
  {
   "cell_type": "code",
   "execution_count": 12,
   "id": "24770f97-1c16-4cdc-baba-f9bff2e69bad",
   "metadata": {},
   "outputs": [],
   "source": [
    "def get_all_top_fifty_albums(sp):\n",
    "    playlist_id = \"https://open.spotify.com/playlist/37i9dQZEVXbMDoHDwVN2tF?si=87c0069b7da449b7\"\n",
    "    top_fifty_global = sp.playlist_tracks(playlist_id)\n",
    "    top_fifty_global_tracks = top_fifty_global.get(\"items\")\n",
    "    tuples = []\n",
    "\n",
    "    for track in top_fifty_global_tracks:\n",
    "        # This is a list of dicts containing where each dict is an artist's information\n",
    "        album_id = track.get('track').get('album').get('id')\n",
    "        album_name = track.get('track').get('album').get('name')\n",
    "        row =(album_id, album_name)\n",
    "        tuples.append(row)\n",
    "        \n",
    "    return tuples"
   ]
  },
  {
   "cell_type": "markdown",
   "id": "8f14b027-398f-479d-9aab-e4f373c4a033",
   "metadata": {},
   "source": [
    "# Inserting data"
   ]
  },
  {
   "cell_type": "markdown",
   "id": "b0851cc0-53b7-4644-80c5-9a9e30868106",
   "metadata": {},
   "source": [
    "## Insert Tracks"
   ]
  },
  {
   "cell_type": "code",
   "execution_count": 13,
   "id": "04261e15-a257-4447-abb9-90502aa2f0f2",
   "metadata": {},
   "outputs": [],
   "source": [
    "def insert_tracks(data, conn):\n",
    "    get_current_data_query = \"\"\"\n",
    "    SELECT * FROM Tracks;\n",
    "    \"\"\"\n",
    "    \n",
    "    insert_query = \"\"\"\n",
    "    INSERT INTO Tracks (track_id, track_name) VALUES (?, ?)\n",
    "    \"\"\"\n",
    "    \n",
    "    cur = conn.cursor()\n",
    "    with conn:\n",
    "        \n",
    "    # grab current data\n",
    "        current_data = execute_sql_query(get_current_data_query, conn)\n",
    "        current_data_set = set(current_data)\n",
    "        data_set = set(data)\n",
    "        new_data = data_set - current_data_set\n",
    "        new_rows = list(new_data)\n",
    "    # to insert data\n",
    "        cur.executemany(insert_query, new_rows)\n",
    "        conn.commit()\n",
    "        "
   ]
  },
  {
   "cell_type": "code",
   "execution_count": 14,
   "id": "506202d4-7bc2-42f0-b549-2cc7e0507584",
   "metadata": {},
   "outputs": [],
   "source": [
    "def insert_albums(data, conn):\n",
    "    get_current_data_query = \"\"\"\n",
    "    SELECT * FROM Albums;\n",
    "    \"\"\"\n",
    "    \n",
    "    insert_query = \"\"\"\n",
    "    INSERT INTO Albums (album_id, album_name) VALUES (?, ?)\n",
    "    \"\"\"\n",
    "    \n",
    "    cur = conn.cursor()\n",
    "    with conn:\n",
    "        \n",
    "    # grab current data\n",
    "        current_data = execute_sql_query(get_current_data_query, conn)\n",
    "        current_data_set = set(current_data)\n",
    "        data_set = set(data)\n",
    "        new_data = data_set - current_data_set\n",
    "        new_rows = list(new_data)\n",
    "    # to insert data\n",
    "        cur.executemany(insert_query, new_rows)\n",
    "        conn.commit()"
   ]
  },
  {
   "cell_type": "code",
   "execution_count": 15,
   "id": "0fb3a36c-0baa-44da-a049-4e276d949258",
   "metadata": {},
   "outputs": [],
   "source": [
    "def insert_artists(data, conn):\n",
    "    get_current_data_query = \"\"\"\n",
    "    SELECT * FROM Artists;\n",
    "    \"\"\"\n",
    "    \n",
    "    insert_query = \"\"\"\n",
    "    INSERT INTO Artists (artist_id, artist_name) VALUES (?, ?)\n",
    "    \"\"\"\n",
    "    \n",
    "    cur = conn.cursor()\n",
    "    with conn:\n",
    "        \n",
    "    # grab current data\n",
    "        current_data = execute_sql_query(get_current_data_query, conn)\n",
    "        current_data_set = set(current_data)\n",
    "        data_set = set(data)\n",
    "        new_data = data_set - current_data_set\n",
    "        new_rows = list(new_data)\n",
    "    # to insert data\n",
    "        cur.executemany(insert_query, new_rows)\n",
    "        conn.commit()"
   ]
  },
  {
   "cell_type": "code",
   "execution_count": 16,
   "id": "a573366e-4ce6-477e-bda9-0fe6bcd0ea8a",
   "metadata": {},
   "outputs": [],
   "source": [
    "def insert_playlist(data, conn):\n",
    "    get_current_data_query = \"\"\"\n",
    "    SELECT * FROM Playlist;\n",
    "    \"\"\"\n",
    "    \n",
    "    insert_query = \"\"\"\n",
    "    INSERT INTO Playlist (track_id, track_name, album_id, album_name, date_loaded) VALUES (?, ?, ?, ?, ?)\n",
    "    \"\"\"\n",
    "    \n",
    "    cur = conn.cursor()\n",
    "    with conn:\n",
    "        \n",
    "    # grab current data\n",
    "        current_data = execute_sql_query(get_current_data_query, conn)\n",
    "        current_data_set = set(current_data)\n",
    "        data_set = set(data)\n",
    "        new_data = data_set - current_data_set\n",
    "        new_rows = list(new_data)\n",
    "    # to insert data\n",
    "        cur.executemany(insert_query, new_rows)\n",
    "        conn.commit()"
   ]
  },
  {
   "cell_type": "code",
   "execution_count": 17,
   "id": "b2c8947f-1ed0-416f-a381-42ee2be71214",
   "metadata": {},
   "outputs": [],
   "source": [
    "conn = create_connection('SpotifyData.db')\n",
    "playlist = pull.get_global_top_fifty_playlist(sp)\n",
    "insert_playlist(data=playlist, conn=conn)\n"
   ]
  }
 ],
 "metadata": {
  "kernelspec": {
   "display_name": "Python 3 (ipykernel)",
   "language": "python",
   "name": "python3"
  },
  "language_info": {
   "codemirror_mode": {
    "name": "ipython",
    "version": 3
   },
   "file_extension": ".py",
   "mimetype": "text/x-python",
   "name": "python",
   "nbconvert_exporter": "python",
   "pygments_lexer": "ipython3",
   "version": "3.11.7"
  }
 },
 "nbformat": 4,
 "nbformat_minor": 5
}
